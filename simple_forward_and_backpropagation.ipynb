{
  "nbformat": 4,
  "nbformat_minor": 0,
  "metadata": {
    "colab": {
      "name": "simple-forward-and-backpropagation.ipynb",
      "provenance": [],
      "authorship_tag": "ABX9TyOwElBMPHHQehtzgaWlJxq4",
      "include_colab_link": true
    },
    "kernelspec": {
      "name": "python3",
      "display_name": "Python 3"
    },
    "language_info": {
      "name": "python"
    }
  },
  "cells": [
    {
      "cell_type": "markdown",
      "metadata": {
        "id": "view-in-github",
        "colab_type": "text"
      },
      "source": [
        "<a href=\"https://colab.research.google.com/github/kobi-2/simple-forward-and-backpropagation/blob/main/simple_forward_and_backpropagation.ipynb\" target=\"_parent\"><img src=\"https://colab.research.google.com/assets/colab-badge.svg\" alt=\"Open In Colab\"/></a>"
      ]
    },
    {
      "cell_type": "code",
      "metadata": {
        "id": "4aNZWJTSAM61"
      },
      "source": [
        "import numpy as np\n",
        "import pandas as pd"
      ],
      "execution_count": 9,
      "outputs": []
    },
    {
      "cell_type": "code",
      "metadata": {
        "id": "lXGMbaj8_gs8"
      },
      "source": [
        "def sigmoid(X):\n",
        "   return 1/(1+np.exp(-X))"
      ],
      "execution_count": 10,
      "outputs": []
    },
    {
      "cell_type": "code",
      "metadata": {
        "id": "sZjH7cSuA53K"
      },
      "source": [
        "def relu(x):\n",
        "  return np.maximum(0, x)"
      ],
      "execution_count": 11,
      "outputs": []
    },
    {
      "cell_type": "code",
      "metadata": {
        "id": "JhEN6ad-EA5Q"
      },
      "source": [
        "m = 10\n",
        "learning_rate = 0.001\n",
        "X = np.random.randn(2, m)\n",
        "Y = np.random.randn(1, m)\n",
        "\n",
        "no_of_input_unit , no_of_hidden_unit, no_of_output_unit = X.shape[0], 4, Y.shape[0]\n",
        "W1 = np.random.rand(no_of_hidden_unit, no_of_input_unit)\n",
        "W2 = np.random.rand(no_of_output_unit, no_of_hidden_unit)\n",
        "B1 = np.zeros((no_of_hidden_unit, 1))\n",
        "B2 = np.zeros((no_of_output_unit,1))\n",
        "\n",
        "\n",
        "## Forward Propagation\n",
        "\n",
        "Z1 = np.dot(W1,X) + B1\n",
        "A1 = relu(Z1)\n",
        "\n",
        "Z2 = np.dot(W2, A1) + B2\n",
        "Y_hat = sigmoid(Z2)\n",
        "\n",
        "## cost calculation\n",
        "log_loss = np.multiply(np.log(Y_hat), Y) + np.multiply((1 - Y), np.log(1 - Y_hat))\n",
        "cost = - np.sum(log_loss) / m\n",
        "\n",
        "\n",
        "## Back-propagation\n",
        "\n",
        "dZ2 = Y_hat - Y\n",
        "dW2 = (1 / m) * np.dot(dZ2, A1.T)\n",
        "db2 = (1 / m) * np.sum(dZ2)\n",
        "\n",
        "d_relu = np.maximum(0, np.minimum(1,A1)) \n",
        "\n",
        "dZ1 = np.multiply(np.dot(W2.T, dZ2), d_relu)\n",
        "dW1 = (1 / m) * np.dot(dZ1, X.T)\n",
        "db1 = (1 / m) * np.sum(dZ1)\n",
        "\n",
        "\n",
        "W1 = W1 - learning_rate * dW1\n",
        "B1 = B1 - learning_rate * db1\n",
        "W2 = W2 - learning_rate * dW2\n",
        "B2 = B2 - learning_rate * db2"
      ],
      "execution_count": 16,
      "outputs": []
    }
  ]
}